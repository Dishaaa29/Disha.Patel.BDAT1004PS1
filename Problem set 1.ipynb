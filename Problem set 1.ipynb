{
 "cells": [
  {
   "cell_type": "markdown",
   "metadata": {},
   "source": [
    "QUESTION 1"
   ]
  },
  {
   "cell_type": "markdown",
   "metadata": {},
   "source": [
    "What data type is each of the following?"
   ]
  },
  {
   "cell_type": "code",
   "execution_count": 23,
   "metadata": {
    "vscode": {
     "languageId": "csharp"
    }
   },
   "outputs": [
    {
     "name": "stdout",
     "output_type": "stream",
     "text": [
      "var1 (5): System.Int32\n",
      "var2 (5.0): System.Double\n",
      "var3 (5 > 1): System.Boolean\n",
      "var4 ('5'): System.Char\n",
      "var5 (5 * 2): System.Int32\n",
      "var6 ('5' * 2): System.Int32\n",
      "var7 ('5' + '2'): System.String\n",
      "var8 (5 / 2): System.Double\n",
      "var9 (5 % 2): System.Int32\n",
      "var10 (int[]): System.Int32[]\n",
      "var11 (5 == 3): System.Boolean\n",
      "var12 (Pi): System.Double\n"
     ]
    }
   ],
   "source": [
    "using System;\n",
    "\n",
    "\n",
    "var var1 = 5;  \n",
    "Console.WriteLine($\"var1 (5): {var1.GetType()}\");\n",
    "\n",
    "var var2 = 5.0; \n",
    "Console.WriteLine($\"var2 (5.0): {var2.GetType()}\");\n",
    "\n",
    "var var3 = 5 > 1; \n",
    "Console.WriteLine($\"var3 (5 > 1): {var3.GetType()}\");\n",
    "\n",
    "var var4 = '5'; \n",
    "Console.WriteLine($\"var4 ('5'): {var4.GetType()}\");\n",
    "\n",
    "var var5 = 5 * 2; \n",
    "Console.WriteLine($\"var5 (5 * 2): {var5.GetType()}\");\n",
    "\n",
    "var var6 = '5' * 2; \n",
    "Console.WriteLine($\"var6 ('5' * 2): {var6.GetType()}\");\n",
    "\n",
    "var var7 = '5'.ToString() + '2'.ToString(); \n",
    "Console.WriteLine($\"var7 ('5' + '2'): {var7.GetType()}\");\n",
    "\n",
    "var var8 = 5 / 2.0; \n",
    "Console.WriteLine($\"var8 (5 / 2): {var8.GetType()}\");\n",
    "\n",
    "var var9 = 5 % 2;\n",
    "Console.WriteLine($\"var9 (5 % 2): {var9.GetType()}\");\n",
    "\n",
    "int[] var10 = { 5, 2, 1 }; \n",
    "Console.WriteLine($\"var10 (int[]): {var10.GetType()}\"); \n",
    "\n",
    "        \n",
    "var var11 = 5 == 3;\n",
    "Console.WriteLine($\"var11 (5 == 3): {var11.GetType()}\");\n",
    "\n",
    "var var12 = Math.PI; \n",
    "Console.WriteLine($\"var12 (Pi): {var12.GetType()}\");\n"
   ]
  },
  {
   "cell_type": "markdown",
   "metadata": {},
   "source": [
    "### QUESTION 2"
   ]
  },
  {
   "cell_type": "markdown",
   "metadata": {},
   "source": [
    "A. How many letters are there in 'Supercalifragilisticexpialidocious'?"
   ]
  },
  {
   "cell_type": "code",
   "execution_count": 4,
   "metadata": {
    "vscode": {
     "languageId": "csharp"
    }
   },
   "outputs": [
    {
     "name": "stdout",
     "output_type": "stream",
     "text": [
      "a. Number of letters: 34\n"
     ]
    }
   ],
   "source": [
    "string word = \"Supercalifragilisticexpialidocious\";\n",
    "int letterCount = word.Length;\n",
    "Console.WriteLine($\"a. Number of letters: {letterCount}\");"
   ]
  },
  {
   "cell_type": "markdown",
   "metadata": {},
   "source": [
    "B. Does 'Supercalifragilisticexpialidocious' contain 'ice' as a substring"
   ]
  },
  {
   "cell_type": "code",
   "execution_count": 2,
   "metadata": {
    "vscode": {
     "languageId": "csharp"
    }
   },
   "outputs": [
    {
     "name": "stdout",
     "output_type": "stream",
     "text": [
      "b. Contains 'ice' as a substring: True\n"
     ]
    }
   ],
   "source": [
    "bool containsIce = word.Contains(\"ice\");\n",
    "Console.WriteLine($\"b. Contains 'ice' as a substring: {containsIce}\");"
   ]
  },
  {
   "cell_type": "markdown",
   "metadata": {},
   "source": [
    "C. Which of the following words is the longest:\n",
    "Supercalifragilisticexpialidocious, Honorificabilitudinitatibus, or\n",
    "Bababadalgharaghtakamminarronnkonn?"
   ]
  },
  {
   "cell_type": "code",
   "execution_count": 3,
   "metadata": {
    "vscode": {
     "languageId": "csharp"
    }
   },
   "outputs": [
    {
     "name": "stdout",
     "output_type": "stream",
     "text": [
      "c. The longest word is: Supercalifragilisticexpialidocious\n"
     ]
    }
   ],
   "source": [
    "string[] words = {\n",
    "    \"Supercalifragilisticexpialidocious\", \n",
    "    \"Honorificabilitudinitatibus\", \n",
    "    \"Bababadalgharaghtakamminarronnkonn\"\n",
    "};\n",
    "string longestWord = \"\";\n",
    "foreach (var w in words)\n",
    "{\n",
    "    if (w.Length > longestWord.Length)\n",
    "        longestWord = w;\n",
    "}\n",
    "Console.WriteLine($\"c. The longest word is: {longestWord}\");"
   ]
  },
  {
   "cell_type": "markdown",
   "metadata": {},
   "source": [
    "D. Which composer comes first in the dictionary: 'Berlioz', 'Borodin', 'Brian',\n",
    "'Bartok', 'Bellini', 'Buxtehude', 'Bernstein'. Which one comes last?"
   ]
  },
  {
   "cell_type": "code",
   "execution_count": 4,
   "metadata": {
    "vscode": {
     "languageId": "csharp"
    }
   },
   "outputs": [
    {
     "name": "stdout",
     "output_type": "stream",
     "text": [
      "d. First composer: Bartok\n",
      "   Last composer: Buxtehude\n"
     ]
    }
   ],
   "source": [
    "string[] composers = { \"Berlioz\", \"Borodin\", \"Brian\", \"Bartok\", \"Bellini\", \"Buxtehude\", \"Bernstein\" };\n",
    "Array.Sort(composers);\n",
    "Console.WriteLine($\"d. First composer: {composers[0]}\");\n",
    "Console.WriteLine($\"   Last composer: {composers[composers.Length - 1]}\");"
   ]
  },
  {
   "cell_type": "markdown",
   "metadata": {},
   "source": [
    "### QUESTION 3"
   ]
  },
  {
   "cell_type": "markdown",
   "metadata": {},
   "source": [
    "Implement function triangleArea(a,b,c) that takes as input the lengths of the 3\n",
    "sides of a triangle and returns the area of the triangle. By Heron's formula, the area\n",
    "of a triangle with side lengths a, b, and c is s(s − a)(s − b)(s − c), where\n",
    "s = (a + b + c)/2.\n",
    "\n",
    "triangleArea(2,2,2)\n",
    "\n",
    "1.7320508075688772"
   ]
  },
  {
   "cell_type": "code",
   "execution_count": 2,
   "metadata": {
    "vscode": {
     "languageId": "csharp"
    }
   },
   "outputs": [
    {
     "name": "stdout",
     "output_type": "stream",
     "text": [
      "Area of the triangle: 1.7320508075688772\n",
      "Area of the triangle: 2.9047375096555625\n"
     ]
    }
   ],
   "source": [
    "using System;\n",
    "\n",
    "double triangleArea(double a, double b, double c)\n",
    "{\n",
    "    // Calculate the semi-perimeter\n",
    "    double s = (a + b + c) / 2;\n",
    "\n",
    "    //  Calculate the area using Heron's formula\n",
    "    double area = Math.Sqrt(s * (s - a) * (s - b) * (s - c));\n",
    "\n",
    "    return area;\n",
    "}\n",
    "\n",
    "// Example usage \n",
    "double area = triangleArea(2, 2, 2);\n",
    "Console.WriteLine($\"Area of the triangle: {area}\");\n",
    "\n",
    "double area1 = triangleArea(2, 3, 4);\n",
    "Console.WriteLine($\"Area of the triangle: {area1}\");\n",
    "\n"
   ]
  },
  {
   "cell_type": "markdown",
   "metadata": {},
   "source": [
    "QUESTION 4"
   ]
  },
  {
   "cell_type": "markdown",
   "metadata": {},
   "source": [
    "Write a program in C# Sharp to separate odd and even integers in separate arrays.\n",
    "Go to the editor"
   ]
  },
  {
   "cell_type": "code",
   "execution_count": 5,
   "metadata": {
    "vscode": {
     "languageId": "csharp"
    }
   },
   "outputs": [
    {
     "name": "stdout",
     "output_type": "stream",
     "text": [
      "The Even elements are:\n",
      "42 56 32 \n",
      "The Odd elements are:\n",
      "25 47 "
     ]
    }
   ],
   "source": [
    "// Given array of elements\n",
    "int[] arr = { 25, 47, 42, 56, 32 };\n",
    "int n = arr.Length;\n",
    "\n",
    "// Arrays for even and odd numbers\n",
    "int[] evenArr = new int[n];\n",
    "int[] oddArr = new int[n];\n",
    "int evenCount = 0, oddCount = 0;\n",
    "\n",
    "// Separate odd and even numbers\n",
    "foreach (int num in arr)\n",
    "{\n",
    "    if (num % 2 == 0)\n",
    "    {\n",
    "        evenArr[evenCount++] = num;\n",
    "    }\n",
    "    else\n",
    "    {\n",
    "        oddArr[oddCount++] = num;\n",
    "    }\n",
    "}\n",
    "\n",
    "Console.WriteLine(\"The Even elements are:\");\n",
    "for (int i = 0; i < evenCount; i++)\n",
    "{\n",
    "    Console.Write(evenArr[i] + \" \");\n",
    "}\n",
    "\n",
    "Console.WriteLine(\"\\nThe Odd elements are:\");\n",
    "for (int i = 0; i < oddCount; i++)\n",
    "{\n",
    "    Console.Write(oddArr[i] + \" \");\n",
    "}"
   ]
  },
  {
   "cell_type": "markdown",
   "metadata": {},
   "source": [
    "### Question 5"
   ]
  },
  {
   "cell_type": "markdown",
   "metadata": {},
   "source": [
    "A. Write a function inside(x,y,x1,y1,x2,y2) that returns True or False\n",
    "depending on whether the point (x,y) lies in the rectangle with lower left\n",
    "corner (x1,y1) and upper right corner (x2,y2).\n",
    "\n",
    " inside(1,1,0,0,2,3)\n",
    "True\n",
    "\n",
    " inside(-1,-1,0,0,2,3)\n",
    "False"
   ]
  },
  {
   "cell_type": "code",
   "execution_count": 1,
   "metadata": {
    "vscode": {
     "languageId": "csharp"
    }
   },
   "outputs": [
    {
     "data": {
      "text/html": [
       "\r\n",
       "<div>\r\n",
       "    <div id='dotnet-interactive-this-cell-23948.Microsoft.DotNet.Interactive.Http.HttpPort' style='display: none'>\r\n",
       "        The below script needs to be able to find the current output cell; this is an easy method to get it.\r\n",
       "    </div>\r\n",
       "    <script type='text/javascript'>\r\n",
       "async function probeAddresses(probingAddresses) {\r\n",
       "    function timeout(ms, promise) {\r\n",
       "        return new Promise(function (resolve, reject) {\r\n",
       "            setTimeout(function () {\r\n",
       "                reject(new Error('timeout'))\r\n",
       "            }, ms)\r\n",
       "            promise.then(resolve, reject)\r\n",
       "        })\r\n",
       "    }\r\n",
       "\r\n",
       "    if (Array.isArray(probingAddresses)) {\r\n",
       "        for (let i = 0; i < probingAddresses.length; i++) {\r\n",
       "\r\n",
       "            let rootUrl = probingAddresses[i];\r\n",
       "\r\n",
       "            if (!rootUrl.endsWith('/')) {\r\n",
       "                rootUrl = `${rootUrl}/`;\r\n",
       "            }\r\n",
       "\r\n",
       "            try {\r\n",
       "                let response = await timeout(1000, fetch(`${rootUrl}discovery`, {\r\n",
       "                    method: 'POST',\r\n",
       "                    cache: 'no-cache',\r\n",
       "                    mode: 'cors',\r\n",
       "                    timeout: 1000,\r\n",
       "                    headers: {\r\n",
       "                        'Content-Type': 'text/plain'\r\n",
       "                    },\r\n",
       "                    body: probingAddresses[i]\r\n",
       "                }));\r\n",
       "\r\n",
       "                if (response.status == 200) {\r\n",
       "                    return rootUrl;\r\n",
       "                }\r\n",
       "            }\r\n",
       "            catch (e) { }\r\n",
       "        }\r\n",
       "    }\r\n",
       "}\r\n",
       "\r\n",
       "function loadDotnetInteractiveApi() {\r\n",
       "    probeAddresses([\"http://10.0.0.242:2048/\", \"http://127.0.0.1:2048/\"])\r\n",
       "        .then((root) => {\r\n",
       "        // use probing to find host url and api resources\r\n",
       "        // load interactive helpers and language services\r\n",
       "        let dotnetInteractiveRequire = require.config({\r\n",
       "        context: '23948.Microsoft.DotNet.Interactive.Http.HttpPort',\r\n",
       "                paths:\r\n",
       "            {\r\n",
       "                'dotnet-interactive': `${root}resources`\r\n",
       "                }\r\n",
       "        }) || require;\r\n",
       "\r\n",
       "            window.dotnetInteractiveRequire = dotnetInteractiveRequire;\r\n",
       "\r\n",
       "            window.configureRequireFromExtension = function(extensionName, extensionCacheBuster) {\r\n",
       "                let paths = {};\r\n",
       "                paths[extensionName] = `${root}extensions/${extensionName}/resources/`;\r\n",
       "                \r\n",
       "                let internalRequire = require.config({\r\n",
       "                    context: extensionCacheBuster,\r\n",
       "                    paths: paths,\r\n",
       "                    urlArgs: `cacheBuster=${extensionCacheBuster}`\r\n",
       "                    }) || require;\r\n",
       "\r\n",
       "                return internalRequire\r\n",
       "            };\r\n",
       "        \r\n",
       "            dotnetInteractiveRequire([\r\n",
       "                    'dotnet-interactive/dotnet-interactive'\r\n",
       "                ],\r\n",
       "                function (dotnet) {\r\n",
       "                    dotnet.init(window);\r\n",
       "                },\r\n",
       "                function (error) {\r\n",
       "                    console.log(error);\r\n",
       "                }\r\n",
       "            );\r\n",
       "        })\r\n",
       "        .catch(error => {console.log(error);});\r\n",
       "    }\r\n",
       "\r\n",
       "// ensure `require` is available globally\r\n",
       "if ((typeof(require) !==  typeof(Function)) || (typeof(require.config) !== typeof(Function))) {\r\n",
       "    let require_script = document.createElement('script');\r\n",
       "    require_script.setAttribute('src', 'https://cdnjs.cloudflare.com/ajax/libs/require.js/2.3.6/require.min.js');\r\n",
       "    require_script.setAttribute('type', 'text/javascript');\r\n",
       "    \r\n",
       "    \r\n",
       "    require_script.onload = function() {\r\n",
       "        loadDotnetInteractiveApi();\r\n",
       "    };\r\n",
       "\r\n",
       "    document.getElementsByTagName('head')[0].appendChild(require_script);\r\n",
       "}\r\n",
       "else {\r\n",
       "    loadDotnetInteractiveApi();\r\n",
       "}\r\n",
       "\r\n",
       "    </script>\r\n",
       "</div>"
      ]
     },
     "metadata": {},
     "output_type": "display_data"
    },
    {
     "name": "stdout",
     "output_type": "stream",
     "text": [
      "True\n",
      "False\n"
     ]
    }
   ],
   "source": [
    "using System;\n",
    "\n",
    "var result1 = inside(1, 1, 0, 0, 2, 3);\n",
    "Console.WriteLine(result1); \n",
    "\n",
    "var result2 = inside(-1, -1, 0, 0, 2, 3);\n",
    "Console.WriteLine(result2); \n",
    "\n",
    "bool inside(int x, int y, int x1, int y1, int x2, int y2)\n",
    "{\n",
    "    return (x >= x1 && x <= x2 && y >= y1 && y <= y2);\n",
    "}\n"
   ]
  },
  {
   "cell_type": "markdown",
   "metadata": {},
   "source": [
    "B. Use function inside() from part a. to write an expression that tests whether\n",
    "the point (1,1) lies in both of the following rectangles: one with lower left\n",
    "corner (0.3, 0.5) and upper right corner (1.1, 0.7) and the other with lower\n",
    "left corner (0.5, 0.2) and upper right corner (1.1, 2)"
   ]
  },
  {
   "cell_type": "code",
   "execution_count": 3,
   "metadata": {
    "vscode": {
     "languageId": "csharp"
    }
   },
   "outputs": [
    {
     "name": "stdout",
     "output_type": "stream",
     "text": [
      "Point (1, 1) is inside the first rectangle: False\n",
      "Point (1, 1) is inside the second rectangle: True\n"
     ]
    }
   ],
   "source": [
    "using System;\n",
    "\n",
    "int pointX = 1;\n",
    "int pointY = 1;\n",
    "\n",
    "// First rectangle with corners (0.3, 0.5) and (1.1, 0.7)\n",
    "bool inFirstRectangle = inside(pointX, pointY, 0.3, 0.5, 1.1, 0.7);\n",
    "\n",
    "// Second rectangle with corners (0.5, 0.2) and (1.1, 2)\n",
    "bool inSecondRectangle = inside(pointX, pointY, 0.5, 0.2, 1.1, 2);\n",
    "\n",
    "// Print results\n",
    "Console.WriteLine($\"Point (1, 1) is inside the first rectangle: {inFirstRectangle}\");\n",
    "Console.WriteLine($\"Point (1, 1) is inside the second rectangle: {inSecondRectangle}\");\n",
    "\n",
    "bool inside(double x, double y, double x1, double y1, double x2, double y2)\n",
    "{\n",
    "    return (x >= x1 && x <= x2 && y >= y1 && y <= y2);\n",
    "}\n"
   ]
  },
  {
   "cell_type": "markdown",
   "metadata": {},
   "source": [
    "### QUESTION 6"
   ]
  },
  {
   "cell_type": "markdown",
   "metadata": {},
   "source": [
    "You can turn a word into pig-Latin using the following two rules (simplified):\n",
    "• If the word starts with a consonant, move that letter to the end and append\n",
    "'ay'. For example, 'happy' becomes 'appyhay' and 'pencil' becomes 'encilpay'.\n",
    "• If the word starts with a vowel, simply append 'way' to the end of the word.\n",
    "For example, 'enter' becomes 'enterway' and 'other' becomes 'otherway' . For\n",
    "our purposes, there are 5 vowels: a, e, i, o, u (so we count y as a consonant).\n",
    "Write a function pig() that takes a word (i.e., a string) as input and returns its pig-\n",
    "Latin form. Your function should still work if the input word contains upper case\n",
    "characters. Your output should always be lower case however.\n",
    "\n",
    " pig('happy')\n",
    "'appyhay'\n",
    "\n",
    " pig('Enter')\n",
    "'enterway"
   ]
  },
  {
   "cell_type": "code",
   "execution_count": 8,
   "metadata": {
    "vscode": {
     "languageId": "csharp"
    }
   },
   "outputs": [
    {
     "name": "stdout",
     "output_type": "stream",
     "text": [
      "appyhay\n",
      "enterway\n",
      "ellhay\n",
      "elienway\n"
     ]
    }
   ],
   "source": [
    "def pig(word):\n",
    "    //Convert the word to lowercase for consistent processing\n",
    "    word = word.lower()\n",
    "    \n",
    "    // Check if the first letter is a vowel\n",
    "    if word[0] in 'aeiou':\n",
    "        // If it starts with a vowel, append 'way'\n",
    "        return word + 'way'\n",
    "    else:\n",
    "        // If it starts with a consonant, move the first letter to the end and append 'ay'\n",
    "        return word[1:] + word[0] + 'ay'\n",
    "\n",
    "# Test cases\n",
    "print(pig('happy'))  \n",
    "print(pig('Enter'))  \n",
    "\n",
    "print(pig('hell'))\n",
    "print(pig('elien'))\n"
   ]
  },
  {
   "cell_type": "markdown",
   "metadata": {},
   "source": [
    "### QUESTION 7 "
   ]
  },
  {
   "cell_type": "markdown",
   "metadata": {},
   "source": [
    "File bloodtype1.txt records blood-types of patients (A, B, AB, O or OO) at a clinic.\n",
    "Write a function bldcount() that reads the file with name name and reports (i.e.,\n",
    "prints) how many patients there are in each bloodtype.\n",
    "\n",
    " bldcount('bloodtype.txt')\n",
    "\n",
    "There are 10 patients of blood type A.\n",
    "\n",
    "There is one patient of blood type B.\n",
    "\n",
    "There are 10 patients of blood type AB.\n",
    "\n",
    "There are 12 patients of blood type O.\n",
    "\n",
    "There are no patients of blood type OO"
   ]
  },
  {
   "cell_type": "code",
   "execution_count": 2,
   "metadata": {
    "vscode": {
     "languageId": "csharp"
    }
   },
   "outputs": [
    {
     "name": "stdout",
     "output_type": "stream",
     "text": [
      "There are 15 patients of blood type A.\n",
      "There is one patient of blood type B.\n",
      "There are 13 patients of blood type AB.\n",
      "There are 15 patients of blood type O.\n",
      "There are no patients of blood type OO.\n"
     ]
    }
   ],
   "source": [
    "def bldcount(filename):\n",
    "    // Blood types we're interested in\n",
    "    blood_types = ['A', 'B', 'AB', 'O', 'OO']\n",
    "    // Initialize a dictionary to count occurrences of each blood type\n",
    "    counts = {blood_type: 0 for blood_type in blood_types}\n",
    "    \n",
    "    try:\n",
    "       \n",
    "        with open(filename, 'r') as file:\n",
    "            blood_data = file.read().strip().split()\n",
    "            \n",
    "        // Count occurrences of each blood type\n",
    "            for blood in blood_data:\n",
    "                if blood in counts:\n",
    "                    counts[blood] += 1\n",
    "        \n",
    "        for blood_type in blood_types:\n",
    "            count = counts[blood_type]\n",
    "            if count == 0:\n",
    "                print(f\"There are no patients of blood type {blood_type}.\")\n",
    "            elif count == 1:\n",
    "                print(f\"There is one patient of blood type {blood_type}.\")\n",
    "            else:\n",
    "                print(f\"There are {count} patients of blood type {blood_type}.\")\n",
    "                \n",
    "    except FileNotFoundError:\n",
    "        print(f\"The file {filename} does not exist.\")\n",
    "    except Exception as e:\n",
    "        print(f\"An error occurred: {e}\")\n",
    "\n",
    "\n",
    "bldcount(r\"E:\\georgian\\BDAT\\2 2 data analytics programming\\bloodtype1.txt\")\n"
   ]
  },
  {
   "cell_type": "markdown",
   "metadata": {},
   "source": [
    "### QUESTION 8"
   ]
  },
  {
   "cell_type": "markdown",
   "metadata": {},
   "source": [
    "rite a function curconv() that takes as input:\n",
    "1. a currency represented using a string (e.g., 'JPY' for the Japanese Yen or\n",
    "'EUR' for the Euro)\n",
    "2. an amount\n",
    "and then converts and returns the amount in US dollars.\n",
    "\n",
    "curconv('EUR', 100)\n",
    "122.96544\n",
    "\n",
    "curconv('JPY', 100)\n",
    "1.241401"
   ]
  },
  {
   "cell_type": "code",
   "execution_count": 13,
   "metadata": {
    "vscode": {
     "languageId": "csharp"
    }
   },
   "outputs": [
    {
     "name": "stdout",
     "output_type": "stream",
     "text": [
      "122.96544\n",
      "1.241401\n",
      "0.68277055\n",
      "92.22408\n"
     ]
    }
   ],
   "source": [
    "def load_currency_rates(filename):\n",
    "    rates = {}\n",
    "    try:\n",
    "        with open(filename, 'r') as file:\n",
    "            for line in file:\n",
    "                parts = line.split()\n",
    "                if len(parts) >= 2:  # Ensure there's at least a currency code and rate\n",
    "                    currency_code = parts[0]\n",
    "                    exchange_rate = float(parts[1])\n",
    "                    rates[currency_code] = exchange_rate\n",
    "    except FileNotFoundError:\n",
    "        print(f\"The file {filename} does not exist.\")\n",
    "    except Exception as e:\n",
    "        print(f\"An error occurred: {e}\")\n",
    "    return rates\n",
    "\n",
    "def curconv(currency, amount):\n",
    "    # Load currency rates\n",
    "    rates = load_currency_rates(r\"E:\\georgian\\BDAT\\2 2 data analytics programming\\currencies.txt\")\n",
    "    \n",
    "    # Convert the amount if the currency code exists in the rates\n",
    "    if currency in rates:\n",
    "        return amount * rates[currency]\n",
    "    else:\n",
    "        raise ValueError(f\"Currency '{currency}' not found.\")\n",
    "\n",
    "\n",
    "print(curconv('EUR', 100))  \n",
    "print(curconv('JPY', 100)) \n",
    " \n",
    "print(curconv('JPY', 55)) \n",
    "print(curconv('EUR', 75))  \n",
    "\n"
   ]
  },
  {
   "cell_type": "markdown",
   "metadata": {},
   "source": [
    "### QUESTION 9"
   ]
  },
  {
   "cell_type": "markdown",
   "metadata": {},
   "source": [
    "A.  Trying to add incompatible variables, as in\n",
    "adding 6 + ‘a’"
   ]
  },
  {
   "cell_type": "code",
   "execution_count": 1,
   "metadata": {
    "vscode": {
     "languageId": "csharp"
    }
   },
   "outputs": [
    {
     "name": "stdout",
     "output_type": "stream",
     "text": [
      "TypeError: unsupported operand type(s) for +: 'int' and 'str'\n"
     ]
    }
   ],
   "source": [
    "try:\n",
    "    result = 6 + 'a'  \n",
    "except TypeError as e:\n",
    "    print(f\"TypeError: {e}\")"
   ]
  },
  {
   "cell_type": "markdown",
   "metadata": {},
   "source": [
    "EXPLAINATION: This error occurs because you cannot perform addition between an integer and a string in Python, as they are incompatible types."
   ]
  },
  {
   "cell_type": "markdown",
   "metadata": {},
   "source": [
    "B. Referring to the 12th item of a list that has only 10\n",
    "items"
   ]
  },
  {
   "cell_type": "code",
   "execution_count": 2,
   "metadata": {
    "vscode": {
     "languageId": "csharp"
    }
   },
   "outputs": [
    {
     "name": "stdout",
     "output_type": "stream",
     "text": [
      "IndexError: list index out of range\n"
     ]
    }
   ],
   "source": [
    "try:\n",
    "    my_list = [1, 2, 3, 4, 5, 6, 7, 8, 9, 10]  \n",
    "    item = my_list[11]  \n",
    "except IndexError as e:\n",
    "    print(f\"IndexError: {e}\")"
   ]
  },
  {
   "cell_type": "markdown",
   "metadata": {},
   "source": [
    "Explanation: This error occurs because you are trying to access an index that is out of the range of the list. Lists are zero-indexed, so if the list has 10 items, valid indices are 0 through 9."
   ]
  },
  {
   "cell_type": "markdown",
   "metadata": {},
   "source": [
    "C. Using a value that is out of range for a function’s\n",
    "input, such as calling math.sqrt(-1.0)"
   ]
  },
  {
   "cell_type": "code",
   "execution_count": 3,
   "metadata": {
    "vscode": {
     "languageId": "csharp"
    }
   },
   "outputs": [
    {
     "name": "stdout",
     "output_type": "stream",
     "text": [
      "ValueError: math domain error\n"
     ]
    }
   ],
   "source": [
    "import math\n",
    "try:\n",
    "    result = math.sqrt(-1.0)  \n",
    "except ValueError as e:\n",
    "    print(f\"ValueError: {e}\")"
   ]
  },
  {
   "cell_type": "markdown",
   "metadata": {},
   "source": [
    "Explanation: This error occurs because the square root function cannot accept a negative number as input in the context of real numbers. This will raise a ValueError indicating that the input value is not valid"
   ]
  },
  {
   "cell_type": "markdown",
   "metadata": {},
   "source": [
    "D.Using an undeclared variable, such as print(x)\n",
    "when x has not been defined"
   ]
  },
  {
   "cell_type": "code",
   "execution_count": 4,
   "metadata": {
    "vscode": {
     "languageId": "csharp"
    }
   },
   "outputs": [
    {
     "name": "stdout",
     "output_type": "stream",
     "text": [
      "NameError: name 'x' is not defined\n"
     ]
    }
   ],
   "source": [
    "try:\n",
    "    print(x)  \n",
    "except NameError as e:\n",
    "    print(f\"NameError: {e}\")"
   ]
  },
  {
   "cell_type": "markdown",
   "metadata": {},
   "source": [
    "Explanation: This error occurs because you are trying to use a variable that has not been declared or defined in the current scope."
   ]
  },
  {
   "cell_type": "markdown",
   "metadata": {},
   "source": [
    "E. Trying to open a file that does not exist, such as\n",
    "mistyping the file name or looking in the wrong\n",
    "directory."
   ]
  },
  {
   "cell_type": "code",
   "execution_count": 5,
   "metadata": {
    "vscode": {
     "languageId": "csharp"
    }
   },
   "outputs": [
    {
     "name": "stdout",
     "output_type": "stream",
     "text": [
      "FileNotFoundError: [Errno 2] No such file or directory: 'non_existent_file.txt'\n"
     ]
    }
   ],
   "source": [
    "try:\n",
    "    with open('non_existent_file.txt', 'r') as file: \n",
    "        content = file.read()\n",
    "except FileNotFoundError as e:\n",
    "    print(f\"FileNotFoundError: {e}\")"
   ]
  },
  {
   "cell_type": "markdown",
   "metadata": {},
   "source": [
    "Explanation: This error occurs when an attempt to open a file fails because the specified file cannot be found in the given path."
   ]
  },
  {
   "cell_type": "markdown",
   "metadata": {},
   "source": [
    "### Question 10"
   ]
  },
  {
   "cell_type": "markdown",
   "metadata": {},
   "source": [
    "Encryption is the process of hiding the meaning of a text by substituting letters in the\n",
    "message with other letters, according to some system. If the process is successful, no\n",
    "one but the intended recipient can understand the encrypted message. Cryptanalysis\n",
    "refers to attempts to undo the encryption, even if some details of the encryption are\n",
    "unknown (for example, if an encrypted message has been intercepted). The first step\n",
    "of cryptanalysis is often to build up a table of letter frequencies in the encrypted text.\n",
    "Assume that the string letters is already defined as\n",
    "'abcdefghijklmnopqrstuvwxyz'. Write a function called frequencies()\n",
    "that takes a string as its only parameter, and returns a list of integers, showing the\n",
    "number of times each character appears in the text. Your function may ignore any\n",
    "characters that are not in letters.\n",
    "\n",
    "requencies('The quick red fox got bored and went home.')\n",
    "[1, 1, 1, 3, 5, 1, 1, 2, 1, 0, 1, 0, 1, 2, 4, 0, 1, 2, 0, 2,\n",
    "1, 0, 1, 1, 0, 0]\n",
    "\n",
    "frequencies('apple')"
   ]
  },
  {
   "cell_type": "code",
   "execution_count": 4,
   "metadata": {
    "vscode": {
     "languageId": "csharp"
    }
   },
   "outputs": [
    {
     "name": "stdout",
     "output_type": "stream",
     "text": [
      "[1, 1, 1, 3, 5, 1, 1, 2, 1, 0, 1, 0, 1, 2, 4, 0, 1, 2, 0, 3, 1, 0, 1, 1, 0, 0]\n",
      "[1, 0, 0, 0, 1, 0, 0, 0, 0, 0, 0, 1, 0, 0, 0, 2, 0, 0, 0, 0, 0, 0, 0, 0, 0, 0]\n"
     ]
    }
   ],
   "source": [
    "def frequencies(text):\n",
    "    //String containing all letters in the alphabet\n",
    "    letters = 'abcdefghijklmnopqrstuvwxyz'\n",
    "    \n",
    "    //Initialize a list of 26 zeros for each letter\n",
    "    frequency_count = [0] * 26\n",
    "    \n",
    "    //Iterate through each character in the input text\n",
    "    for char in text.lower():  # Convert to lowercase for case insensitivity\n",
    "        if char in letters:  # Check if the character is a letter\n",
    "            index = letters.index(char)  # Get the index of the letter\n",
    "            frequency_count[index] += 1  # Increment the count at that index\n",
    "            \n",
    "    return frequency_count\n",
    "\n",
    "\n",
    "print(frequencies('The quick red fox got bored and went home.'))  # Expected output\n",
    "print(frequencies('apple'))  # Expected output\n"
   ]
  },
  {
   "cell_type": "code",
   "execution_count": null,
   "metadata": {
    "vscode": {
     "languageId": "csharp"
    }
   },
   "outputs": [],
   "source": []
  }
 ],
 "metadata": {
  "kernelspec": {
   "display_name": ".NET (C#)",
   "language": "C#",
   "name": ".net-csharp"
  },
  "language_info": {
   "file_extension": ".cs",
   "mimetype": "text/x-csharp",
   "name": "C#",
   "pygments_lexer": "csharp",
   "version": "12.0"
  }
 },
 "nbformat": 4,
 "nbformat_minor": 2
}
